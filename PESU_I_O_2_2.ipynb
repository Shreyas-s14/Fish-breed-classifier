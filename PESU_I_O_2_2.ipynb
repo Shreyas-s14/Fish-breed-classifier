{
  "nbformat": 4,
  "nbformat_minor": 0,
  "metadata": {
    "colab": {
      "name": "PESU-I/O-2.2.ipynb",
      "provenance": [],
      "collapsed_sections": [
        "6Y-l_yvrYCtt"
      ],
      "include_colab_link": true
    },
    "kernelspec": {
      "name": "python3",
      "display_name": "Python 3"
    },
    "accelerator": "GPU"
  },
  "cells": [
    {
      "cell_type": "markdown",
      "metadata": {
        "id": "view-in-github",
        "colab_type": "text"
      },
      "source": [
        "<a href=\"https://colab.research.google.com/github/Shreyas-s14/io-CV-DL/blob/main/PESU_I_O_2_2.ipynb\" target=\"_parent\"><img src=\"https://colab.research.google.com/assets/colab-badge.svg\" alt=\"Open In Colab\"/></a>"
      ]
    },
    {
      "cell_type": "markdown",
      "metadata": {
        "id": "6Y-l_yvrYCtt"
      },
      "source": [
        "# Setting up Kaggle"
      ]
    },
    {
      "cell_type": "code",
      "metadata": {
        "colab": {
          "base_uri": "https://localhost:8080/"
        },
        "id": "NJbpi6BeX_wY",
        "outputId": "963d7ba1-99e7-4973-c9d0-308dd0e2b11b"
      },
      "source": [
        "! pip install --upgrade --force-reinstall --no-deps kaggle"
      ],
      "execution_count": null,
      "outputs": [
        {
          "output_type": "stream",
          "text": [
            "Collecting kaggle\n",
            "\u001b[?25l  Downloading https://files.pythonhosted.org/packages/99/33/365c0d13f07a2a54744d027fe20b60dacdfdfb33bc04746db6ad0b79340b/kaggle-1.5.10.tar.gz (59kB)\n",
            "\r\u001b[K     |█████▌                          | 10kB 17.9MB/s eta 0:00:01\r\u001b[K     |███████████                     | 20kB 17.4MB/s eta 0:00:01\r\u001b[K     |████████████████▋               | 30kB 14.5MB/s eta 0:00:01\r\u001b[K     |██████████████████████▏         | 40kB 13.3MB/s eta 0:00:01\r\u001b[K     |███████████████████████████▊    | 51kB 11.7MB/s eta 0:00:01\r\u001b[K     |████████████████████████████████| 61kB 5.5MB/s \n",
            "\u001b[?25hBuilding wheels for collected packages: kaggle\n",
            "  Building wheel for kaggle (setup.py) ... \u001b[?25l\u001b[?25hdone\n",
            "  Created wheel for kaggle: filename=kaggle-1.5.10-cp37-none-any.whl size=73269 sha256=b4e88fba467b2a5c21e5b8a667e61ff3caec7ecb3d91de2d856630fe8888b026\n",
            "  Stored in directory: /root/.cache/pip/wheels/3a/d1/7e/6ce09b72b770149802c653a02783821629146983ee5a360f10\n",
            "Successfully built kaggle\n",
            "Installing collected packages: kaggle\n",
            "  Found existing installation: kaggle 1.5.10\n",
            "    Uninstalling kaggle-1.5.10:\n",
            "      Successfully uninstalled kaggle-1.5.10\n",
            "Successfully installed kaggle-1.5.10\n"
          ],
          "name": "stdout"
        }
      ]
    },
    {
      "cell_type": "code",
      "metadata": {
        "colab": {
          "resources": {
            "http://localhost:8080/nbextensions/google.colab/files.js": {
              "data": "Ly8gQ29weXJpZ2h0IDIwMTcgR29vZ2xlIExMQwovLwovLyBMaWNlbnNlZCB1bmRlciB0aGUgQXBhY2hlIExpY2Vuc2UsIFZlcnNpb24gMi4wICh0aGUgIkxpY2Vuc2UiKTsKLy8geW91IG1heSBub3QgdXNlIHRoaXMgZmlsZSBleGNlcHQgaW4gY29tcGxpYW5jZSB3aXRoIHRoZSBMaWNlbnNlLgovLyBZb3UgbWF5IG9idGFpbiBhIGNvcHkgb2YgdGhlIExpY2Vuc2UgYXQKLy8KLy8gICAgICBodHRwOi8vd3d3LmFwYWNoZS5vcmcvbGljZW5zZXMvTElDRU5TRS0yLjAKLy8KLy8gVW5sZXNzIHJlcXVpcmVkIGJ5IGFwcGxpY2FibGUgbGF3IG9yIGFncmVlZCB0byBpbiB3cml0aW5nLCBzb2Z0d2FyZQovLyBkaXN0cmlidXRlZCB1bmRlciB0aGUgTGljZW5zZSBpcyBkaXN0cmlidXRlZCBvbiBhbiAiQVMgSVMiIEJBU0lTLAovLyBXSVRIT1VUIFdBUlJBTlRJRVMgT1IgQ09ORElUSU9OUyBPRiBBTlkgS0lORCwgZWl0aGVyIGV4cHJlc3Mgb3IgaW1wbGllZC4KLy8gU2VlIHRoZSBMaWNlbnNlIGZvciB0aGUgc3BlY2lmaWMgbGFuZ3VhZ2UgZ292ZXJuaW5nIHBlcm1pc3Npb25zIGFuZAovLyBsaW1pdGF0aW9ucyB1bmRlciB0aGUgTGljZW5zZS4KCi8qKgogKiBAZmlsZW92ZXJ2aWV3IEhlbHBlcnMgZm9yIGdvb2dsZS5jb2xhYiBQeXRob24gbW9kdWxlLgogKi8KKGZ1bmN0aW9uKHNjb3BlKSB7CmZ1bmN0aW9uIHNwYW4odGV4dCwgc3R5bGVBdHRyaWJ1dGVzID0ge30pIHsKICBjb25zdCBlbGVtZW50ID0gZG9jdW1lbnQuY3JlYXRlRWxlbWVudCgnc3BhbicpOwogIGVsZW1lbnQudGV4dENvbnRlbnQgPSB0ZXh0OwogIGZvciAoY29uc3Qga2V5IG9mIE9iamVjdC5rZXlzKHN0eWxlQXR0cmlidXRlcykpIHsKICAgIGVsZW1lbnQuc3R5bGVba2V5XSA9IHN0eWxlQXR0cmlidXRlc1trZXldOwogIH0KICByZXR1cm4gZWxlbWVudDsKfQoKLy8gTWF4IG51bWJlciBvZiBieXRlcyB3aGljaCB3aWxsIGJlIHVwbG9hZGVkIGF0IGEgdGltZS4KY29uc3QgTUFYX1BBWUxPQURfU0laRSA9IDEwMCAqIDEwMjQ7CgpmdW5jdGlvbiBfdXBsb2FkRmlsZXMoaW5wdXRJZCwgb3V0cHV0SWQpIHsKICBjb25zdCBzdGVwcyA9IHVwbG9hZEZpbGVzU3RlcChpbnB1dElkLCBvdXRwdXRJZCk7CiAgY29uc3Qgb3V0cHV0RWxlbWVudCA9IGRvY3VtZW50LmdldEVsZW1lbnRCeUlkKG91dHB1dElkKTsKICAvLyBDYWNoZSBzdGVwcyBvbiB0aGUgb3V0cHV0RWxlbWVudCB0byBtYWtlIGl0IGF2YWlsYWJsZSBmb3IgdGhlIG5leHQgY2FsbAogIC8vIHRvIHVwbG9hZEZpbGVzQ29udGludWUgZnJvbSBQeXRob24uCiAgb3V0cHV0RWxlbWVudC5zdGVwcyA9IHN0ZXBzOwoKICByZXR1cm4gX3VwbG9hZEZpbGVzQ29udGludWUob3V0cHV0SWQpOwp9CgovLyBUaGlzIGlzIHJvdWdobHkgYW4gYXN5bmMgZ2VuZXJhdG9yIChub3Qgc3VwcG9ydGVkIGluIHRoZSBicm93c2VyIHlldCksCi8vIHdoZXJlIHRoZXJlIGFyZSBtdWx0aXBsZSBhc3luY2hyb25vdXMgc3RlcHMgYW5kIHRoZSBQeXRob24gc2lkZSBpcyBnb2luZwovLyB0byBwb2xsIGZvciBjb21wbGV0aW9uIG9mIGVhY2ggc3RlcC4KLy8gVGhpcyB1c2VzIGEgUHJvbWlzZSB0byBibG9jayB0aGUgcHl0aG9uIHNpZGUgb24gY29tcGxldGlvbiBvZiBlYWNoIHN0ZXAsCi8vIHRoZW4gcGFzc2VzIHRoZSByZXN1bHQgb2YgdGhlIHByZXZpb3VzIHN0ZXAgYXMgdGhlIGlucHV0IHRvIHRoZSBuZXh0IHN0ZXAuCmZ1bmN0aW9uIF91cGxvYWRGaWxlc0NvbnRpbnVlKG91dHB1dElkKSB7CiAgY29uc3Qgb3V0cHV0RWxlbWVudCA9IGRvY3VtZW50LmdldEVsZW1lbnRCeUlkKG91dHB1dElkKTsKICBjb25zdCBzdGVwcyA9IG91dHB1dEVsZW1lbnQuc3RlcHM7CgogIGNvbnN0IG5leHQgPSBzdGVwcy5uZXh0KG91dHB1dEVsZW1lbnQubGFzdFByb21pc2VWYWx1ZSk7CiAgcmV0dXJuIFByb21pc2UucmVzb2x2ZShuZXh0LnZhbHVlLnByb21pc2UpLnRoZW4oKHZhbHVlKSA9PiB7CiAgICAvLyBDYWNoZSB0aGUgbGFzdCBwcm9taXNlIHZhbHVlIHRvIG1ha2UgaXQgYXZhaWxhYmxlIHRvIHRoZSBuZXh0CiAgICAvLyBzdGVwIG9mIHRoZSBnZW5lcmF0b3IuCiAgICBvdXRwdXRFbGVtZW50Lmxhc3RQcm9taXNlVmFsdWUgPSB2YWx1ZTsKICAgIHJldHVybiBuZXh0LnZhbHVlLnJlc3BvbnNlOwogIH0pOwp9CgovKioKICogR2VuZXJhdG9yIGZ1bmN0aW9uIHdoaWNoIGlzIGNhbGxlZCBiZXR3ZWVuIGVhY2ggYXN5bmMgc3RlcCBvZiB0aGUgdXBsb2FkCiAqIHByb2Nlc3MuCiAqIEBwYXJhbSB7c3RyaW5nfSBpbnB1dElkIEVsZW1lbnQgSUQgb2YgdGhlIGlucHV0IGZpbGUgcGlja2VyIGVsZW1lbnQuCiAqIEBwYXJhbSB7c3RyaW5nfSBvdXRwdXRJZCBFbGVtZW50IElEIG9mIHRoZSBvdXRwdXQgZGlzcGxheS4KICogQHJldHVybiB7IUl0ZXJhYmxlPCFPYmplY3Q+fSBJdGVyYWJsZSBvZiBuZXh0IHN0ZXBzLgogKi8KZnVuY3Rpb24qIHVwbG9hZEZpbGVzU3RlcChpbnB1dElkLCBvdXRwdXRJZCkgewogIGNvbnN0IGlucHV0RWxlbWVudCA9IGRvY3VtZW50LmdldEVsZW1lbnRCeUlkKGlucHV0SWQpOwogIGlucHV0RWxlbWVudC5kaXNhYmxlZCA9IGZhbHNlOwoKICBjb25zdCBvdXRwdXRFbGVtZW50ID0gZG9jdW1lbnQuZ2V0RWxlbWVudEJ5SWQob3V0cHV0SWQpOwogIG91dHB1dEVsZW1lbnQuaW5uZXJIVE1MID0gJyc7CgogIGNvbnN0IHBpY2tlZFByb21pc2UgPSBuZXcgUHJvbWlzZSgocmVzb2x2ZSkgPT4gewogICAgaW5wdXRFbGVtZW50LmFkZEV2ZW50TGlzdGVuZXIoJ2NoYW5nZScsIChlKSA9PiB7CiAgICAgIHJlc29sdmUoZS50YXJnZXQuZmlsZXMpOwogICAgfSk7CiAgfSk7CgogIGNvbnN0IGNhbmNlbCA9IGRvY3VtZW50LmNyZWF0ZUVsZW1lbnQoJ2J1dHRvbicpOwogIGlucHV0RWxlbWVudC5wYXJlbnRFbGVtZW50LmFwcGVuZENoaWxkKGNhbmNlbCk7CiAgY2FuY2VsLnRleHRDb250ZW50ID0gJ0NhbmNlbCB1cGxvYWQnOwogIGNvbnN0IGNhbmNlbFByb21pc2UgPSBuZXcgUHJvbWlzZSgocmVzb2x2ZSkgPT4gewogICAgY2FuY2VsLm9uY2xpY2sgPSAoKSA9PiB7CiAgICAgIHJlc29sdmUobnVsbCk7CiAgICB9OwogIH0pOwoKICAvLyBXYWl0IGZvciB0aGUgdXNlciB0byBwaWNrIHRoZSBmaWxlcy4KICBjb25zdCBmaWxlcyA9IHlpZWxkIHsKICAgIHByb21pc2U6IFByb21pc2UucmFjZShbcGlja2VkUHJvbWlzZSwgY2FuY2VsUHJvbWlzZV0pLAogICAgcmVzcG9uc2U6IHsKICAgICAgYWN0aW9uOiAnc3RhcnRpbmcnLAogICAgfQogIH07CgogIGNhbmNlbC5yZW1vdmUoKTsKCiAgLy8gRGlzYWJsZSB0aGUgaW5wdXQgZWxlbWVudCBzaW5jZSBmdXJ0aGVyIHBpY2tzIGFyZSBub3QgYWxsb3dlZC4KICBpbnB1dEVsZW1lbnQuZGlzYWJsZWQgPSB0cnVlOwoKICBpZiAoIWZpbGVzKSB7CiAgICByZXR1cm4gewogICAgICByZXNwb25zZTogewogICAgICAgIGFjdGlvbjogJ2NvbXBsZXRlJywKICAgICAgfQogICAgfTsKICB9CgogIGZvciAoY29uc3QgZmlsZSBvZiBmaWxlcykgewogICAgY29uc3QgbGkgPSBkb2N1bWVudC5jcmVhdGVFbGVtZW50KCdsaScpOwogICAgbGkuYXBwZW5kKHNwYW4oZmlsZS5uYW1lLCB7Zm9udFdlaWdodDogJ2JvbGQnfSkpOwogICAgbGkuYXBwZW5kKHNwYW4oCiAgICAgICAgYCgke2ZpbGUudHlwZSB8fCAnbi9hJ30pIC0gJHtmaWxlLnNpemV9IGJ5dGVzLCBgICsKICAgICAgICBgbGFzdCBtb2RpZmllZDogJHsKICAgICAgICAgICAgZmlsZS5sYXN0TW9kaWZpZWREYXRlID8gZmlsZS5sYXN0TW9kaWZpZWREYXRlLnRvTG9jYWxlRGF0ZVN0cmluZygpIDoKICAgICAgICAgICAgICAgICAgICAgICAgICAgICAgICAgICAgJ24vYSd9IC0gYCkpOwogICAgY29uc3QgcGVyY2VudCA9IHNwYW4oJzAlIGRvbmUnKTsKICAgIGxpLmFwcGVuZENoaWxkKHBlcmNlbnQpOwoKICAgIG91dHB1dEVsZW1lbnQuYXBwZW5kQ2hpbGQobGkpOwoKICAgIGNvbnN0IGZpbGVEYXRhUHJvbWlzZSA9IG5ldyBQcm9taXNlKChyZXNvbHZlKSA9PiB7CiAgICAgIGNvbnN0IHJlYWRlciA9IG5ldyBGaWxlUmVhZGVyKCk7CiAgICAgIHJlYWRlci5vbmxvYWQgPSAoZSkgPT4gewogICAgICAgIHJlc29sdmUoZS50YXJnZXQucmVzdWx0KTsKICAgICAgfTsKICAgICAgcmVhZGVyLnJlYWRBc0FycmF5QnVmZmVyKGZpbGUpOwogICAgfSk7CiAgICAvLyBXYWl0IGZvciB0aGUgZGF0YSB0byBiZSByZWFkeS4KICAgIGxldCBmaWxlRGF0YSA9IHlpZWxkIHsKICAgICAgcHJvbWlzZTogZmlsZURhdGFQcm9taXNlLAogICAgICByZXNwb25zZTogewogICAgICAgIGFjdGlvbjogJ2NvbnRpbnVlJywKICAgICAgfQogICAgfTsKCiAgICAvLyBVc2UgYSBjaHVua2VkIHNlbmRpbmcgdG8gYXZvaWQgbWVzc2FnZSBzaXplIGxpbWl0cy4gU2VlIGIvNjIxMTU2NjAuCiAgICBsZXQgcG9zaXRpb24gPSAwOwogICAgd2hpbGUgKHBvc2l0aW9uIDwgZmlsZURhdGEuYnl0ZUxlbmd0aCkgewogICAgICBjb25zdCBsZW5ndGggPSBNYXRoLm1pbihmaWxlRGF0YS5ieXRlTGVuZ3RoIC0gcG9zaXRpb24sIE1BWF9QQVlMT0FEX1NJWkUpOwogICAgICBjb25zdCBjaHVuayA9IG5ldyBVaW50OEFycmF5KGZpbGVEYXRhLCBwb3NpdGlvbiwgbGVuZ3RoKTsKICAgICAgcG9zaXRpb24gKz0gbGVuZ3RoOwoKICAgICAgY29uc3QgYmFzZTY0ID0gYnRvYShTdHJpbmcuZnJvbUNoYXJDb2RlLmFwcGx5KG51bGwsIGNodW5rKSk7CiAgICAgIHlpZWxkIHsKICAgICAgICByZXNwb25zZTogewogICAgICAgICAgYWN0aW9uOiAnYXBwZW5kJywKICAgICAgICAgIGZpbGU6IGZpbGUubmFtZSwKICAgICAgICAgIGRhdGE6IGJhc2U2NCwKICAgICAgICB9LAogICAgICB9OwogICAgICBwZXJjZW50LnRleHRDb250ZW50ID0KICAgICAgICAgIGAke01hdGgucm91bmQoKHBvc2l0aW9uIC8gZmlsZURhdGEuYnl0ZUxlbmd0aCkgKiAxMDApfSUgZG9uZWA7CiAgICB9CiAgfQoKICAvLyBBbGwgZG9uZS4KICB5aWVsZCB7CiAgICByZXNwb25zZTogewogICAgICBhY3Rpb246ICdjb21wbGV0ZScsCiAgICB9CiAgfTsKfQoKc2NvcGUuZ29vZ2xlID0gc2NvcGUuZ29vZ2xlIHx8IHt9OwpzY29wZS5nb29nbGUuY29sYWIgPSBzY29wZS5nb29nbGUuY29sYWIgfHwge307CnNjb3BlLmdvb2dsZS5jb2xhYi5fZmlsZXMgPSB7CiAgX3VwbG9hZEZpbGVzLAogIF91cGxvYWRGaWxlc0NvbnRpbnVlLAp9Owp9KShzZWxmKTsK",
              "ok": true,
              "headers": [
                [
                  "content-type",
                  "application/javascript"
                ]
              ],
              "status": 200,
              "status_text": "OK"
            }
          },
          "base_uri": "https://localhost:8080/",
          "height": 95
        },
        "id": "WSEnUFoeYov6",
        "outputId": "d5383a05-6fce-428b-9303-b7110d1f02df"
      },
      "source": [
        "from google.colab import files\n",
        "files.upload()"
      ],
      "execution_count": null,
      "outputs": [
        {
          "output_type": "display_data",
          "data": {
            "text/html": [
              "\n",
              "     <input type=\"file\" id=\"files-56a48085-6ffc-480d-9ab2-4482c26b1dd7\" name=\"files[]\" multiple disabled\n",
              "        style=\"border:none\" />\n",
              "     <output id=\"result-56a48085-6ffc-480d-9ab2-4482c26b1dd7\">\n",
              "      Upload widget is only available when the cell has been executed in the\n",
              "      current browser session. Please rerun this cell to enable.\n",
              "      </output>\n",
              "      <script src=\"/nbextensions/google.colab/files.js\"></script> "
            ],
            "text/plain": [
              "<IPython.core.display.HTML object>"
            ]
          },
          "metadata": {
            "tags": []
          }
        },
        {
          "output_type": "stream",
          "text": [
            "Saving kaggle.json to kaggle.json\n"
          ],
          "name": "stdout"
        },
        {
          "output_type": "execute_result",
          "data": {
            "text/plain": [
              "{'kaggle.json': b'{\"username\":\"inagana\",\"key\":\"da1f31980e463050b645d7c2c1999ff0\"}'}"
            ]
          },
          "metadata": {
            "tags": []
          },
          "execution_count": 2
        }
      ]
    },
    {
      "cell_type": "code",
      "metadata": {
        "id": "ViHMQ1knYxPq"
      },
      "source": [
        "! mkdir ~/.kaggle\n",
        "! cp kaggle.json ~/.kaggle/"
      ],
      "execution_count": null,
      "outputs": []
    },
    {
      "cell_type": "code",
      "metadata": {
        "id": "jzHlCrQDZAwv"
      },
      "source": [
        " ! chmod 600 ~/.kaggle/kaggle.json"
      ],
      "execution_count": null,
      "outputs": []
    },
    {
      "cell_type": "code",
      "metadata": {
        "id": "6-B2t474ZIIx"
      },
      "source": [
        "! kaggle datasets list"
      ],
      "execution_count": null,
      "outputs": []
    },
    {
      "cell_type": "code",
      "metadata": {
        "colab": {
          "base_uri": "https://localhost:8080/"
        },
        "id": "HSlmiEzLZLIK",
        "outputId": "34d6443b-2b8f-431c-f8c6-63d0cf87b660"
      },
      "source": [
        "! kaggle datasets download -d tongpython/cat-and-dog"
      ],
      "execution_count": null,
      "outputs": [
        {
          "output_type": "stream",
          "text": [
            "Downloading cat-and-dog.zip to /content\n",
            " 96% 209M/218M [00:03<00:00, 85.6MB/s]\n",
            "100% 218M/218M [00:03<00:00, 60.4MB/s]\n"
          ],
          "name": "stdout"
        }
      ]
    },
    {
      "cell_type": "code",
      "metadata": {
        "id": "BAo5obcYZvH6"
      },
      "source": [
        "! unzip cat-and-dog.zip -d dataset"
      ],
      "execution_count": null,
      "outputs": []
    },
    {
      "cell_type": "code",
      "metadata": {
        "id": "DZezGn0BaCSP"
      },
      "source": [
        ""
      ],
      "execution_count": null,
      "outputs": []
    },
    {
      "cell_type": "markdown",
      "metadata": {
        "id": "cVgH5hutaha9"
      },
      "source": [
        "# CNN model"
      ]
    },
    {
      "cell_type": "code",
      "metadata": {
        "id": "FR8ZyB7WajS3"
      },
      "source": [
        "import tensorflow as tf\n",
        "import matplotlib.pyplot as plt\n",
        "import numpy as np"
      ],
      "execution_count": null,
      "outputs": []
    },
    {
      "cell_type": "code",
      "metadata": {
        "id": "mznJEJX5aoZs"
      },
      "source": [
        "training_path = \"/content/dataset/training_set/training_set\"\n",
        "test_path = \"/content/dataset/test_set/test_set\""
      ],
      "execution_count": null,
      "outputs": []
    },
    {
      "cell_type": "code",
      "metadata": {
        "colab": {
          "base_uri": "https://localhost:8080/"
        },
        "id": "maRxSuqQbFL3",
        "outputId": "f528e033-6ce4-4b21-8828-efdf45c86332"
      },
      "source": [
        "train_dataset = tf.keras.preprocessing.image_dataset_from_directory(\n",
        "    training_path,\n",
        "    image_size = (200,200),\n",
        "    batch_size = 32\n",
        ")\n"
      ],
      "execution_count": null,
      "outputs": [
        {
          "output_type": "stream",
          "text": [
            "Found 8005 files belonging to 2 classes.\n"
          ],
          "name": "stdout"
        }
      ]
    },
    {
      "cell_type": "code",
      "metadata": {
        "colab": {
          "base_uri": "https://localhost:8080/"
        },
        "id": "lROFvePya388",
        "outputId": "f7c9b3f8-940c-403b-d753-7b8e045a0056"
      },
      "source": [
        "test_dataset = tf.keras.preprocessing.image_dataset_from_directory(\n",
        "    test_path,\n",
        "    image_size = (200,200),\n",
        "    batch_size = 32\n",
        ")"
      ],
      "execution_count": null,
      "outputs": [
        {
          "output_type": "stream",
          "text": [
            "Found 2023 files belonging to 2 classes.\n"
          ],
          "name": "stdout"
        }
      ]
    },
    {
      "cell_type": "code",
      "metadata": {
        "id": "kTx5I0FSbiGD"
      },
      "source": [
        "CNNmodel = tf.keras.models.Sequential()\n",
        "\n",
        "# Feature extraction part\n",
        "CNNmodel.add(tf.keras.layers.Conv2D(32, (3,3), activation='relu', input_shape=(200,200,3)))\n",
        "CNNmodel.add(tf.keras.layers.MaxPooling2D((2,2)))\n",
        "CNNmodel.add(tf.keras.layers.Conv2D(64, (3,3), activation='relu'))\n",
        "CNNmodel.add(tf.keras.layers.MaxPooling2D((2,2)))\n",
        "CNNmodel.add(tf.keras.layers.Conv2D(64,(3,3), activation='relu'))\n",
        "\n",
        "# Neural network - For classification\n",
        "CNNmodel.add(tf.keras.layers.Flatten())\n",
        "CNNmodel.add(tf.keras.layers.Dense(32, activation='relu'))\n",
        "CNNmodel.add(tf.keras.layers.Dense(64, activation='relu'))\n",
        "CNNmodel.add(tf.keras.layers.Dense(2, activation='softmax'))"
      ],
      "execution_count": null,
      "outputs": []
    },
    {
      "cell_type": "code",
      "metadata": {
        "colab": {
          "base_uri": "https://localhost:8080/"
        },
        "id": "3VKjUs8RbnLd",
        "outputId": "226a99dd-bdda-421a-bb32-621822b54645"
      },
      "source": [
        "CNNmodel.summary()"
      ],
      "execution_count": null,
      "outputs": [
        {
          "output_type": "stream",
          "text": [
            "Model: \"sequential_15\"\n",
            "_________________________________________________________________\n",
            "Layer (type)                 Output Shape              Param #   \n",
            "=================================================================\n",
            "conv2d_41 (Conv2D)           (None, 198, 198, 32)      896       \n",
            "_________________________________________________________________\n",
            "max_pooling2d_26 (MaxPooling (None, 99, 99, 32)        0         \n",
            "_________________________________________________________________\n",
            "conv2d_42 (Conv2D)           (None, 97, 97, 64)        18496     \n",
            "_________________________________________________________________\n",
            "max_pooling2d_27 (MaxPooling (None, 48, 48, 64)        0         \n",
            "_________________________________________________________________\n",
            "conv2d_43 (Conv2D)           (None, 46, 46, 64)        36928     \n",
            "_________________________________________________________________\n",
            "flatten_13 (Flatten)         (None, 135424)            0         \n",
            "_________________________________________________________________\n",
            "dense_37 (Dense)             (None, 32)                4333600   \n",
            "_________________________________________________________________\n",
            "dense_38 (Dense)             (None, 64)                2112      \n",
            "_________________________________________________________________\n",
            "dense_39 (Dense)             (None, 2)                 130       \n",
            "=================================================================\n",
            "Total params: 4,392,162\n",
            "Trainable params: 4,392,162\n",
            "Non-trainable params: 0\n",
            "_________________________________________________________________\n"
          ],
          "name": "stdout"
        }
      ]
    },
    {
      "cell_type": "code",
      "metadata": {
        "id": "mf3YzbL-cpei"
      },
      "source": [
        "CNNmodel.compile(optimizer = 'adam',\n",
        "                loss='sparse_categorical_crossentropy',metrics = ['accuracy'])"
      ],
      "execution_count": null,
      "outputs": []
    },
    {
      "cell_type": "code",
      "metadata": {
        "colab": {
          "base_uri": "https://localhost:8080/"
        },
        "id": "Qc7Rmbyicv9M",
        "outputId": "b1995146-741a-4d77-90a2-53548b298bd5"
      },
      "source": [
        "history = CNNmodel.fit(train_dataset, validation_data=test_dataset, epochs = 15)"
      ],
      "execution_count": null,
      "outputs": [
        {
          "output_type": "stream",
          "text": [
            "Epoch 1/15\n",
            "251/251 [==============================] - 38s 147ms/step - loss: 37.5360 - accuracy: 0.5015 - val_loss: 0.6880 - val_accuracy: 0.5284\n",
            "Epoch 2/15\n",
            "251/251 [==============================] - 37s 145ms/step - loss: 0.6791 - accuracy: 0.5616 - val_loss: 0.6912 - val_accuracy: 0.5383\n",
            "Epoch 3/15\n",
            "251/251 [==============================] - 37s 148ms/step - loss: 0.6057 - accuracy: 0.6311 - val_loss: 0.7222 - val_accuracy: 0.5111\n",
            "Epoch 4/15\n",
            "251/251 [==============================] - 39s 152ms/step - loss: 0.5134 - accuracy: 0.7227 - val_loss: 0.8432 - val_accuracy: 0.5210\n",
            "Epoch 5/15\n",
            "251/251 [==============================] - 39s 155ms/step - loss: 0.4177 - accuracy: 0.7826 - val_loss: 1.0649 - val_accuracy: 0.5477\n",
            "Epoch 6/15\n",
            "251/251 [==============================] - 39s 155ms/step - loss: 0.3539 - accuracy: 0.8290 - val_loss: 1.2871 - val_accuracy: 0.5240\n",
            "Epoch 7/15\n",
            "251/251 [==============================] - 39s 153ms/step - loss: 0.2756 - accuracy: 0.8676 - val_loss: 1.4560 - val_accuracy: 0.5368\n",
            "Epoch 8/15\n",
            "251/251 [==============================] - 39s 154ms/step - loss: 0.2396 - accuracy: 0.8897 - val_loss: 2.0298 - val_accuracy: 0.5482\n",
            "Epoch 9/15\n",
            "251/251 [==============================] - 37s 147ms/step - loss: 0.2358 - accuracy: 0.9028 - val_loss: 2.5350 - val_accuracy: 0.5378\n",
            "Epoch 10/15\n",
            "251/251 [==============================] - 38s 151ms/step - loss: 0.1747 - accuracy: 0.9261 - val_loss: 2.8941 - val_accuracy: 0.5517\n",
            "Epoch 11/15\n",
            "251/251 [==============================] - 38s 150ms/step - loss: 0.1871 - accuracy: 0.9298 - val_loss: 2.9120 - val_accuracy: 0.5393\n",
            "Epoch 12/15\n",
            "251/251 [==============================] - 38s 152ms/step - loss: 0.1863 - accuracy: 0.9329 - val_loss: 2.5360 - val_accuracy: 0.5274\n",
            "Epoch 13/15\n",
            "251/251 [==============================] - 37s 146ms/step - loss: 0.1530 - accuracy: 0.9459 - val_loss: 2.8610 - val_accuracy: 0.5492\n",
            "Epoch 14/15\n",
            "251/251 [==============================] - 37s 144ms/step - loss: 0.1337 - accuracy: 0.9515 - val_loss: 2.9987 - val_accuracy: 0.5635\n",
            "Epoch 15/15\n",
            "251/251 [==============================] - 37s 145ms/step - loss: 0.1160 - accuracy: 0.9545 - val_loss: 3.0771 - val_accuracy: 0.5576\n"
          ],
          "name": "stdout"
        }
      ]
    },
    {
      "cell_type": "code",
      "metadata": {
        "colab": {
          "base_uri": "https://localhost:8080/",
          "height": 300
        },
        "id": "t808SQBLcxdM",
        "outputId": "a08f863f-a00d-4730-e7f5-53cb1f045f60"
      },
      "source": [
        "plt.plot(history.history['accuracy'], label='accuracy')\n",
        "plt.plot(history.history['val_accuracy'], label = 'val_accuracy')\n",
        "plt.xlabel('Epoch')\n",
        "plt.ylabel('Accuracy')\n",
        "plt.ylim([0.5, 1])\n",
        "plt.legend(loc='lower right')"
      ],
      "execution_count": null,
      "outputs": [
        {
          "output_type": "execute_result",
          "data": {
            "text/plain": [
              "<matplotlib.legend.Legend at 0x7f7ad54bd050>"
            ]
          },
          "metadata": {
            "tags": []
          },
          "execution_count": 76
        },
        {
          "output_type": "display_data",
          "data": {
            "image/png": "[encoded data removed]",
            "text/plain": [
              "<Figure size 432x288 with 1 Axes>"
            ]
          },
          "metadata": {
            "tags": [],
            "needs_background": "light"
          }
        }
      ]
    },
    {
      "cell_type": "code",
      "metadata": {
        "id": "rKRx4CdYgUDE"
      },
      "source": [
        ""
      ],
      "execution_count": null,
      "outputs": []
    },
    {
      "cell_type": "markdown",
      "metadata": {
        "id": "xfgBAj0s0V1p"
      },
      "source": [
        "Here we notice overfitting, so we try to solve it"
      ]
    },
    {
      "cell_type": "markdown",
      "metadata": {
        "id": "j5gVpUUmlYno"
      },
      "source": [
        "## Solving Overfitting with Data Augmentation"
      ]
    },
    {
      "cell_type": "code",
      "metadata": {
        "id": "zXR6SRvilb7S"
      },
      "source": [
        "#Use ImageDataGenerator to do augmentation\n",
        "dataGen = tf.keras.preprocessing.image.ImageDataGenerator(\n",
        "    rescale = 1./255,\n",
        "    rotation_range=5,\n",
        "    horizontal_flip=True,\n",
        "    vertical_flip=True,\n",
        ")"
      ],
      "execution_count": null,
      "outputs": []
    },
    {
      "cell_type": "code",
      "metadata": {
        "colab": {
          "base_uri": "https://localhost:8080/"
        },
        "id": "OCQSiCXXmiKy",
        "outputId": "80db69f3-61fd-4306-99e2-149c19a0dd30"
      },
      "source": [
        "train_dataset_aug = dataGen.flow_from_directory(\n",
        "    training_path,\n",
        "    target_size = (200,200),\n",
        "    batch_size = 32,\n",
        "    shuffle=True,\n",
        "    seed = 865\n",
        ")"
      ],
      "execution_count": null,
      "outputs": [
        {
          "output_type": "stream",
          "text": [
            "Found 8005 images belonging to 2 classes.\n"
          ],
          "name": "stdout"
        }
      ]
    },
    {
      "cell_type": "code",
      "metadata": {
        "colab": {
          "base_uri": "https://localhost:8080/"
        },
        "id": "AGIAZtpknNuU",
        "outputId": "ff61ec74-5aaf-49a7-b198-782ac45ca15e"
      },
      "source": [
        "test_dataset_aug = dataGen.flow_from_directory(\n",
        "    test_path,\n",
        "    target_size = (200,200),\n",
        "    batch_size = 32,\n",
        "    shuffle=True,\n",
        "    seed = 865\n",
        ")"
      ],
      "execution_count": null,
      "outputs": [
        {
          "output_type": "stream",
          "text": [
            "Found 2023 images belonging to 2 classes.\n"
          ],
          "name": "stdout"
        }
      ]
    },
    {
      "cell_type": "code",
      "metadata": {
        "id": "VOLus7ujnY0J"
      },
      "source": [
        "CNNmodel_aug = tf.keras.models.Sequential()\n",
        "\n",
        "# Feature extraction part\n",
        "CNNmodel_aug.add(tf.keras.layers.Conv2D(32, (3,3), activation='relu', input_shape=(200,200,3)))\n",
        "CNNmodel_aug.add(tf.keras.layers.MaxPooling2D((2,2)))\n",
        "CNNmodel_aug.add(tf.keras.layers.Conv2D(64, (3,3), activation='relu'))\n",
        "CNNmodel_aug.add(tf.keras.layers.MaxPooling2D((2,2)))\n",
        "CNNmodel_aug.add(tf.keras.layers.Conv2D(64,(3,3), activation='relu'))\n",
        "\n",
        "# Neural network - For classification\n",
        "CNNmodel_aug.add(tf.keras.layers.Flatten())\n",
        "CNNmodel_aug.add(tf.keras.layers.Dense(32, activation='relu'))\n",
        "CNNmodel_aug.add(tf.keras.layers.Dense(64, activation='relu'))\n",
        "CNNmodel_aug.add(tf.keras.layers.Dense(2, activation='softmax'))\n",
        "\n",
        "#Compile\n",
        "CNNmodel_aug.compile(optimizer = 'adam',\n",
        "                loss='categorical_crossentropy',metrics = ['accuracy'])"
      ],
      "execution_count": null,
      "outputs": []
    },
    {
      "cell_type": "code",
      "metadata": {
        "colab": {
          "base_uri": "https://localhost:8080/"
        },
        "id": "ILO_CiUBnGor",
        "outputId": "70d8c0dd-7fd1-4433-e93f-9a29f9efe09b"
      },
      "source": [
        "history2 = CNNmodel_aug.fit(train_dataset_aug, validation_data=test_dataset_aug, epochs = 15)"
      ],
      "execution_count": null,
      "outputs": [
        {
          "output_type": "stream",
          "text": [
            "Epoch 1/15\n",
            "251/251 [==============================] - 119s 472ms/step - loss: 0.7494 - accuracy: 0.4927 - val_loss: 0.6932 - val_accuracy: 0.5002\n",
            "Epoch 2/15\n",
            "251/251 [==============================] - 118s 472ms/step - loss: 0.6936 - accuracy: 0.5026 - val_loss: 0.6932 - val_accuracy: 0.5002\n",
            "Epoch 3/15\n",
            "251/251 [==============================] - 118s 469ms/step - loss: 0.6931 - accuracy: 0.5062 - val_loss: 0.6932 - val_accuracy: 0.4998\n",
            "Epoch 4/15\n",
            "251/251 [==============================] - 118s 470ms/step - loss: 0.6933 - accuracy: 0.5003 - val_loss: 0.6932 - val_accuracy: 0.4998\n",
            "Epoch 5/15\n",
            "251/251 [==============================] - 118s 469ms/step - loss: 0.6934 - accuracy: 0.5112 - val_loss: 0.6931 - val_accuracy: 0.5012\n",
            "Epoch 6/15\n",
            "251/251 [==============================] - 117s 468ms/step - loss: 0.6925 - accuracy: 0.5145 - val_loss: 0.6926 - val_accuracy: 0.5111\n",
            "Epoch 7/15\n",
            "251/251 [==============================] - 117s 468ms/step - loss: 0.6890 - accuracy: 0.5382 - val_loss: 0.6838 - val_accuracy: 0.5586\n",
            "Epoch 8/15\n",
            "251/251 [==============================] - 118s 468ms/step - loss: 0.6825 - accuracy: 0.5646 - val_loss: 0.6737 - val_accuracy: 0.5853\n",
            "Epoch 9/15\n",
            "251/251 [==============================] - 118s 471ms/step - loss: 0.6708 - accuracy: 0.5943 - val_loss: 0.6561 - val_accuracy: 0.6243\n",
            "Epoch 10/15\n",
            "251/251 [==============================] - 118s 472ms/step - loss: 0.6454 - accuracy: 0.6255 - val_loss: 0.6526 - val_accuracy: 0.6327\n",
            "Epoch 11/15\n",
            "251/251 [==============================] - 118s 472ms/step - loss: 0.6278 - accuracy: 0.6497 - val_loss: 0.6224 - val_accuracy: 0.6614\n",
            "Epoch 12/15\n",
            "251/251 [==============================] - 118s 469ms/step - loss: 0.6109 - accuracy: 0.6663 - val_loss: 0.6235 - val_accuracy: 0.6663\n",
            "Epoch 13/15\n",
            "251/251 [==============================] - 117s 466ms/step - loss: 0.5835 - accuracy: 0.6938 - val_loss: 0.5973 - val_accuracy: 0.6990\n",
            "Epoch 14/15\n",
            "251/251 [==============================] - 118s 469ms/step - loss: 0.5686 - accuracy: 0.7090 - val_loss: 0.5842 - val_accuracy: 0.7054\n",
            "Epoch 15/15\n",
            "251/251 [==============================] - 118s 469ms/step - loss: 0.5309 - accuracy: 0.7325 - val_loss: 0.5805 - val_accuracy: 0.7014\n"
          ],
          "name": "stdout"
        }
      ]
    },
    {
      "cell_type": "code",
      "metadata": {
        "colab": {
          "base_uri": "https://localhost:8080/",
          "height": 300
        },
        "id": "SItSzt0NnTbT",
        "outputId": "011526e0-3bf6-4aba-97cd-771b3ee4062c"
      },
      "source": [
        "plt.plot(history2.history['accuracy'], label='accuracy')\n",
        "plt.plot(history2.history['val_accuracy'], label = 'val_accuracy')\n",
        "plt.xlabel('Epoch')\n",
        "plt.ylabel('Accuracy')\n",
        "plt.ylim([0.5, 1])\n",
        "plt.legend(loc='lower right')"
      ],
      "execution_count": null,
      "outputs": [
        {
          "output_type": "execute_result",
          "data": {
            "text/plain": [
              "<matplotlib.legend.Legend at 0x7f7b3ac27e50>"
            ]
          },
          "metadata": {
            "tags": []
          },
          "execution_count": 82
        },
        {
          "output_type": "display_data",
          "data": {
            "image/png": "[encoded data removed]",
            "text/plain": [
              "<Figure size 432x288 with 1 Axes>"
            ]
          },
          "metadata": {
            "tags": [],
            "needs_background": "light"
          }
        }
      ]
    },
    {
      "cell_type": "markdown",
      "metadata": {
        "id": "Gf_Am0U9ylm6"
      },
      "source": [
        "### Data augmentation\n",
        "\n",
        "* We can **overcome overfitting** by adding more data\n",
        "* If we cannot add more data, we can create data from existing data by rotating it, or flipping it and so on.\n",
        "* Here, we used `ImageDataGenerator` to augemnt data\n",
        "\n",
        "#### Observation\n",
        "\n",
        "We can observe that though we trained CNN-1 and CNN-2 for 15 epochs with the same architecture, there is no overfitting in CNN-2\n",
        "\n",
        "That is because we used data augmentation for CNN-2"
      ]
    },
    {
      "cell_type": "code",
      "metadata": {
        "id": "UA21d71epqcx"
      },
      "source": [
        ""
      ],
      "execution_count": null,
      "outputs": []
    }
  ]
}